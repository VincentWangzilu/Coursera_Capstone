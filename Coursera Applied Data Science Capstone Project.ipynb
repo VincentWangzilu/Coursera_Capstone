{
 "cells": [
  {
   "cell_type": "markdown",
   "metadata": {},
   "source": [
    "# Coursera Data Science Capstone Project"
   ]
  },
  {
   "cell_type": "code",
   "execution_count": 87,
   "metadata": {},
   "outputs": [],
   "source": [
    "import numpy as np\n",
    "import pandas as pd\n",
    "%matplotlib inline"
   ]
  },
  {
   "cell_type": "code",
   "execution_count": 88,
   "metadata": {},
   "outputs": [
    {
     "name": "stdout",
     "output_type": "stream",
     "text": [
      "Hello Capstone Project Course!\n"
     ]
    }
   ],
   "source": [
    "print('Hello Capstone Project Course!')"
   ]
  },
  {
   "cell_type": "markdown",
   "metadata": {},
   "source": [
    "## 1. Introduction/Business Problem\n",
    "Car accidents happen everyday in cities. The seveiry of accidents may differ depending on the speed of the car, and the angle of collision. It would useful for enterprises such as insurance companies as well as government organizations to predict the seveiry of accidents given information about the accidents such as the road condition, weather condition, and the collision type etc, so they can prepare in advance according to the seveiry of accidents. In this project, we will be building a binary classifier to predict the severity of certain accidents. "
   ]
  },
  {
   "cell_type": "markdown",
   "metadata": {},
   "source": [
    "## 2. Data\n",
    "The data we will be using for this project is the example dataset from SDOT Traffic Management Division, Traffic Records Group. This dataset contains features relative to car accidents such as the location, collision type, number of people involved in the accidents, weather condition, road condition and light condition etc. We have both numerical data and categorical data in this dataset. We will only select features of our interest to build the classification model. For for detailed description of the vairables, check the link down below: https://s3.us.cloud-object-storage.appdomain.cloud/cf-courses-data/CognitiveClass/DP0701EN/version-2/Metadata.pdf"
   ]
  },
  {
   "cell_type": "markdown",
   "metadata": {},
   "source": [
    "## 3. Methodology "
   ]
  },
  {
   "cell_type": "markdown",
   "metadata": {},
   "source": [
    "### Download Data File"
   ]
  },
  {
   "cell_type": "code",
   "execution_count": 17,
   "metadata": {},
   "outputs": [
    {
     "data": {
      "text/plain": [
       "'Data-Collisions (2).csv'"
      ]
     },
     "execution_count": 17,
     "metadata": {},
     "output_type": "execute_result"
    }
   ],
   "source": [
    "import wget\n",
    "url = \"https://s3.us.cloud-object-storage.appdomain.cloud/cf-courses-data/CognitiveClass/DP0701EN/version-2/Data-Collisions.csv\"\n",
    "wget.download(url, 'Data-Collisions.csv')"
   ]
  },
  {
   "cell_type": "markdown",
   "metadata": {},
   "source": [
    "### Load Data From CSV File"
   ]
  },
  {
   "cell_type": "code",
   "execution_count": 89,
   "metadata": {},
   "outputs": [
    {
     "name": "stderr",
     "output_type": "stream",
     "text": [
      "/Users/Vincent/opt/anaconda3/lib/python3.8/site-packages/IPython/core/interactiveshell.py:3071: DtypeWarning: Columns (33) have mixed types.Specify dtype option on import or set low_memory=False.\n",
      "  has_raised = await self.run_ast_nodes(code_ast.body, cell_name,\n"
     ]
    },
    {
     "data": {
      "text/html": [
       "<div>\n",
       "<style scoped>\n",
       "    .dataframe tbody tr th:only-of-type {\n",
       "        vertical-align: middle;\n",
       "    }\n",
       "\n",
       "    .dataframe tbody tr th {\n",
       "        vertical-align: top;\n",
       "    }\n",
       "\n",
       "    .dataframe thead th {\n",
       "        text-align: right;\n",
       "    }\n",
       "</style>\n",
       "<table border=\"1\" class=\"dataframe\">\n",
       "  <thead>\n",
       "    <tr style=\"text-align: right;\">\n",
       "      <th></th>\n",
       "      <th>SEVERITYCODE</th>\n",
       "      <th>X</th>\n",
       "      <th>Y</th>\n",
       "      <th>OBJECTID</th>\n",
       "      <th>INCKEY</th>\n",
       "      <th>COLDETKEY</th>\n",
       "      <th>REPORTNO</th>\n",
       "      <th>STATUS</th>\n",
       "      <th>ADDRTYPE</th>\n",
       "      <th>INTKEY</th>\n",
       "      <th>...</th>\n",
       "      <th>ROADCOND</th>\n",
       "      <th>LIGHTCOND</th>\n",
       "      <th>PEDROWNOTGRNT</th>\n",
       "      <th>SDOTCOLNUM</th>\n",
       "      <th>SPEEDING</th>\n",
       "      <th>ST_COLCODE</th>\n",
       "      <th>ST_COLDESC</th>\n",
       "      <th>SEGLANEKEY</th>\n",
       "      <th>CROSSWALKKEY</th>\n",
       "      <th>HITPARKEDCAR</th>\n",
       "    </tr>\n",
       "  </thead>\n",
       "  <tbody>\n",
       "    <tr>\n",
       "      <th>0</th>\n",
       "      <td>2</td>\n",
       "      <td>-122.323148</td>\n",
       "      <td>47.703140</td>\n",
       "      <td>1</td>\n",
       "      <td>1307</td>\n",
       "      <td>1307</td>\n",
       "      <td>3502005</td>\n",
       "      <td>Matched</td>\n",
       "      <td>Intersection</td>\n",
       "      <td>37475.0</td>\n",
       "      <td>...</td>\n",
       "      <td>Wet</td>\n",
       "      <td>Daylight</td>\n",
       "      <td>NaN</td>\n",
       "      <td>NaN</td>\n",
       "      <td>NaN</td>\n",
       "      <td>10</td>\n",
       "      <td>Entering at angle</td>\n",
       "      <td>0</td>\n",
       "      <td>0</td>\n",
       "      <td>N</td>\n",
       "    </tr>\n",
       "    <tr>\n",
       "      <th>1</th>\n",
       "      <td>1</td>\n",
       "      <td>-122.347294</td>\n",
       "      <td>47.647172</td>\n",
       "      <td>2</td>\n",
       "      <td>52200</td>\n",
       "      <td>52200</td>\n",
       "      <td>2607959</td>\n",
       "      <td>Matched</td>\n",
       "      <td>Block</td>\n",
       "      <td>NaN</td>\n",
       "      <td>...</td>\n",
       "      <td>Wet</td>\n",
       "      <td>Dark - Street Lights On</td>\n",
       "      <td>NaN</td>\n",
       "      <td>6354039.0</td>\n",
       "      <td>NaN</td>\n",
       "      <td>11</td>\n",
       "      <td>From same direction - both going straight - bo...</td>\n",
       "      <td>0</td>\n",
       "      <td>0</td>\n",
       "      <td>N</td>\n",
       "    </tr>\n",
       "    <tr>\n",
       "      <th>2</th>\n",
       "      <td>1</td>\n",
       "      <td>-122.334540</td>\n",
       "      <td>47.607871</td>\n",
       "      <td>3</td>\n",
       "      <td>26700</td>\n",
       "      <td>26700</td>\n",
       "      <td>1482393</td>\n",
       "      <td>Matched</td>\n",
       "      <td>Block</td>\n",
       "      <td>NaN</td>\n",
       "      <td>...</td>\n",
       "      <td>Dry</td>\n",
       "      <td>Daylight</td>\n",
       "      <td>NaN</td>\n",
       "      <td>4323031.0</td>\n",
       "      <td>NaN</td>\n",
       "      <td>32</td>\n",
       "      <td>One parked--one moving</td>\n",
       "      <td>0</td>\n",
       "      <td>0</td>\n",
       "      <td>N</td>\n",
       "    </tr>\n",
       "    <tr>\n",
       "      <th>3</th>\n",
       "      <td>1</td>\n",
       "      <td>-122.334803</td>\n",
       "      <td>47.604803</td>\n",
       "      <td>4</td>\n",
       "      <td>1144</td>\n",
       "      <td>1144</td>\n",
       "      <td>3503937</td>\n",
       "      <td>Matched</td>\n",
       "      <td>Block</td>\n",
       "      <td>NaN</td>\n",
       "      <td>...</td>\n",
       "      <td>Dry</td>\n",
       "      <td>Daylight</td>\n",
       "      <td>NaN</td>\n",
       "      <td>NaN</td>\n",
       "      <td>NaN</td>\n",
       "      <td>23</td>\n",
       "      <td>From same direction - all others</td>\n",
       "      <td>0</td>\n",
       "      <td>0</td>\n",
       "      <td>N</td>\n",
       "    </tr>\n",
       "    <tr>\n",
       "      <th>4</th>\n",
       "      <td>2</td>\n",
       "      <td>-122.306426</td>\n",
       "      <td>47.545739</td>\n",
       "      <td>5</td>\n",
       "      <td>17700</td>\n",
       "      <td>17700</td>\n",
       "      <td>1807429</td>\n",
       "      <td>Matched</td>\n",
       "      <td>Intersection</td>\n",
       "      <td>34387.0</td>\n",
       "      <td>...</td>\n",
       "      <td>Wet</td>\n",
       "      <td>Daylight</td>\n",
       "      <td>NaN</td>\n",
       "      <td>4028032.0</td>\n",
       "      <td>NaN</td>\n",
       "      <td>10</td>\n",
       "      <td>Entering at angle</td>\n",
       "      <td>0</td>\n",
       "      <td>0</td>\n",
       "      <td>N</td>\n",
       "    </tr>\n",
       "  </tbody>\n",
       "</table>\n",
       "<p>5 rows × 38 columns</p>\n",
       "</div>"
      ],
      "text/plain": [
       "   SEVERITYCODE           X          Y  OBJECTID  INCKEY  COLDETKEY REPORTNO  \\\n",
       "0             2 -122.323148  47.703140         1    1307       1307  3502005   \n",
       "1             1 -122.347294  47.647172         2   52200      52200  2607959   \n",
       "2             1 -122.334540  47.607871         3   26700      26700  1482393   \n",
       "3             1 -122.334803  47.604803         4    1144       1144  3503937   \n",
       "4             2 -122.306426  47.545739         5   17700      17700  1807429   \n",
       "\n",
       "    STATUS      ADDRTYPE   INTKEY  ... ROADCOND                LIGHTCOND  \\\n",
       "0  Matched  Intersection  37475.0  ...      Wet                 Daylight   \n",
       "1  Matched         Block      NaN  ...      Wet  Dark - Street Lights On   \n",
       "2  Matched         Block      NaN  ...      Dry                 Daylight   \n",
       "3  Matched         Block      NaN  ...      Dry                 Daylight   \n",
       "4  Matched  Intersection  34387.0  ...      Wet                 Daylight   \n",
       "\n",
       "  PEDROWNOTGRNT  SDOTCOLNUM SPEEDING ST_COLCODE  \\\n",
       "0           NaN         NaN      NaN         10   \n",
       "1           NaN   6354039.0      NaN         11   \n",
       "2           NaN   4323031.0      NaN         32   \n",
       "3           NaN         NaN      NaN         23   \n",
       "4           NaN   4028032.0      NaN         10   \n",
       "\n",
       "                                          ST_COLDESC  SEGLANEKEY  \\\n",
       "0                                  Entering at angle           0   \n",
       "1  From same direction - both going straight - bo...           0   \n",
       "2                             One parked--one moving           0   \n",
       "3                   From same direction - all others           0   \n",
       "4                                  Entering at angle           0   \n",
       "\n",
       "   CROSSWALKKEY  HITPARKEDCAR  \n",
       "0             0             N  \n",
       "1             0             N  \n",
       "2             0             N  \n",
       "3             0             N  \n",
       "4             0             N  \n",
       "\n",
       "[5 rows x 38 columns]"
      ]
     },
     "execution_count": 89,
     "metadata": {},
     "output_type": "execute_result"
    }
   ],
   "source": [
    "name = 'Data-Collisions.csv'\n",
    "df = pd.read_csv(name)\n",
    "df.head()"
   ]
  },
  {
   "cell_type": "code",
   "execution_count": 19,
   "metadata": {},
   "outputs": [
    {
     "data": {
      "text/plain": [
       "(194673, 38)"
      ]
     },
     "execution_count": 19,
     "metadata": {},
     "output_type": "execute_result"
    }
   ],
   "source": [
    "df.shape"
   ]
  },
  {
   "cell_type": "code",
   "execution_count": 21,
   "metadata": {},
   "outputs": [
    {
     "data": {
      "text/plain": [
       "array(['SEVERITYCODE', 'X', 'Y', 'OBJECTID', 'INCKEY', 'COLDETKEY',\n",
       "       'REPORTNO', 'STATUS', 'ADDRTYPE', 'INTKEY', 'LOCATION',\n",
       "       'EXCEPTRSNCODE', 'EXCEPTRSNDESC', 'SEVERITYCODE.1', 'SEVERITYDESC',\n",
       "       'COLLISIONTYPE', 'PERSONCOUNT', 'PEDCOUNT', 'PEDCYLCOUNT',\n",
       "       'VEHCOUNT', 'INCDATE', 'INCDTTM', 'JUNCTIONTYPE', 'SDOT_COLCODE',\n",
       "       'SDOT_COLDESC', 'INATTENTIONIND', 'UNDERINFL', 'WEATHER',\n",
       "       'ROADCOND', 'LIGHTCOND', 'PEDROWNOTGRNT', 'SDOTCOLNUM', 'SPEEDING',\n",
       "       'ST_COLCODE', 'ST_COLDESC', 'SEGLANEKEY', 'CROSSWALKKEY',\n",
       "       'HITPARKEDCAR'], dtype=object)"
      ]
     },
     "execution_count": 21,
     "metadata": {},
     "output_type": "execute_result"
    }
   ],
   "source": [
    "df.columns.values"
   ]
  },
  {
   "cell_type": "markdown",
   "metadata": {},
   "source": [
    "### Feature Analysis\n",
    "For this dataset, we have a total of 38 variables. The 'SEVERITYCODE' variable is the target that we want to predict. In this part, we will determine what variables we are going to use for this project. As our gold is to predict the severity level of car accidents, information such as location, object ID and report number is not necessarily useful, therefore we will drop those variables."
   ]
  },
  {
   "cell_type": "code",
   "execution_count": 90,
   "metadata": {},
   "outputs": [
    {
     "data": {
      "text/html": [
       "<div>\n",
       "<style scoped>\n",
       "    .dataframe tbody tr th:only-of-type {\n",
       "        vertical-align: middle;\n",
       "    }\n",
       "\n",
       "    .dataframe tbody tr th {\n",
       "        vertical-align: top;\n",
       "    }\n",
       "\n",
       "    .dataframe thead th {\n",
       "        text-align: right;\n",
       "    }\n",
       "</style>\n",
       "<table border=\"1\" class=\"dataframe\">\n",
       "  <thead>\n",
       "    <tr style=\"text-align: right;\">\n",
       "      <th></th>\n",
       "      <th>SEVERITYCODE</th>\n",
       "      <th>COLLISIONTYPE</th>\n",
       "      <th>PERSONCOUNT</th>\n",
       "      <th>PEDCOUNT</th>\n",
       "      <th>PEDCYLCOUNT</th>\n",
       "      <th>VEHCOUNT</th>\n",
       "      <th>JUNCTIONTYPE</th>\n",
       "      <th>SDOT_COLCODE</th>\n",
       "      <th>INATTENTIONIND</th>\n",
       "      <th>UNDERINFL</th>\n",
       "      <th>WEATHER</th>\n",
       "      <th>ROADCOND</th>\n",
       "      <th>LIGHTCOND</th>\n",
       "      <th>PEDROWNOTGRNT</th>\n",
       "      <th>SPEEDING</th>\n",
       "      <th>ST_COLCODE</th>\n",
       "      <th>HITPARKEDCAR</th>\n",
       "    </tr>\n",
       "  </thead>\n",
       "  <tbody>\n",
       "    <tr>\n",
       "      <th>0</th>\n",
       "      <td>2</td>\n",
       "      <td>Angles</td>\n",
       "      <td>2</td>\n",
       "      <td>0</td>\n",
       "      <td>0</td>\n",
       "      <td>2</td>\n",
       "      <td>At Intersection (intersection related)</td>\n",
       "      <td>11</td>\n",
       "      <td>NaN</td>\n",
       "      <td>N</td>\n",
       "      <td>Overcast</td>\n",
       "      <td>Wet</td>\n",
       "      <td>Daylight</td>\n",
       "      <td>NaN</td>\n",
       "      <td>NaN</td>\n",
       "      <td>10</td>\n",
       "      <td>N</td>\n",
       "    </tr>\n",
       "    <tr>\n",
       "      <th>1</th>\n",
       "      <td>1</td>\n",
       "      <td>Sideswipe</td>\n",
       "      <td>2</td>\n",
       "      <td>0</td>\n",
       "      <td>0</td>\n",
       "      <td>2</td>\n",
       "      <td>Mid-Block (not related to intersection)</td>\n",
       "      <td>16</td>\n",
       "      <td>NaN</td>\n",
       "      <td>0</td>\n",
       "      <td>Raining</td>\n",
       "      <td>Wet</td>\n",
       "      <td>Dark - Street Lights On</td>\n",
       "      <td>NaN</td>\n",
       "      <td>NaN</td>\n",
       "      <td>11</td>\n",
       "      <td>N</td>\n",
       "    </tr>\n",
       "    <tr>\n",
       "      <th>2</th>\n",
       "      <td>1</td>\n",
       "      <td>Parked Car</td>\n",
       "      <td>4</td>\n",
       "      <td>0</td>\n",
       "      <td>0</td>\n",
       "      <td>3</td>\n",
       "      <td>Mid-Block (not related to intersection)</td>\n",
       "      <td>14</td>\n",
       "      <td>NaN</td>\n",
       "      <td>0</td>\n",
       "      <td>Overcast</td>\n",
       "      <td>Dry</td>\n",
       "      <td>Daylight</td>\n",
       "      <td>NaN</td>\n",
       "      <td>NaN</td>\n",
       "      <td>32</td>\n",
       "      <td>N</td>\n",
       "    </tr>\n",
       "    <tr>\n",
       "      <th>3</th>\n",
       "      <td>1</td>\n",
       "      <td>Other</td>\n",
       "      <td>3</td>\n",
       "      <td>0</td>\n",
       "      <td>0</td>\n",
       "      <td>3</td>\n",
       "      <td>Mid-Block (not related to intersection)</td>\n",
       "      <td>11</td>\n",
       "      <td>NaN</td>\n",
       "      <td>N</td>\n",
       "      <td>Clear</td>\n",
       "      <td>Dry</td>\n",
       "      <td>Daylight</td>\n",
       "      <td>NaN</td>\n",
       "      <td>NaN</td>\n",
       "      <td>23</td>\n",
       "      <td>N</td>\n",
       "    </tr>\n",
       "    <tr>\n",
       "      <th>4</th>\n",
       "      <td>2</td>\n",
       "      <td>Angles</td>\n",
       "      <td>2</td>\n",
       "      <td>0</td>\n",
       "      <td>0</td>\n",
       "      <td>2</td>\n",
       "      <td>At Intersection (intersection related)</td>\n",
       "      <td>11</td>\n",
       "      <td>NaN</td>\n",
       "      <td>0</td>\n",
       "      <td>Raining</td>\n",
       "      <td>Wet</td>\n",
       "      <td>Daylight</td>\n",
       "      <td>NaN</td>\n",
       "      <td>NaN</td>\n",
       "      <td>10</td>\n",
       "      <td>N</td>\n",
       "    </tr>\n",
       "  </tbody>\n",
       "</table>\n",
       "</div>"
      ],
      "text/plain": [
       "   SEVERITYCODE COLLISIONTYPE  PERSONCOUNT  PEDCOUNT  PEDCYLCOUNT  VEHCOUNT  \\\n",
       "0             2        Angles            2         0            0         2   \n",
       "1             1     Sideswipe            2         0            0         2   \n",
       "2             1    Parked Car            4         0            0         3   \n",
       "3             1         Other            3         0            0         3   \n",
       "4             2        Angles            2         0            0         2   \n",
       "\n",
       "                              JUNCTIONTYPE  SDOT_COLCODE INATTENTIONIND  \\\n",
       "0   At Intersection (intersection related)            11            NaN   \n",
       "1  Mid-Block (not related to intersection)            16            NaN   \n",
       "2  Mid-Block (not related to intersection)            14            NaN   \n",
       "3  Mid-Block (not related to intersection)            11            NaN   \n",
       "4   At Intersection (intersection related)            11            NaN   \n",
       "\n",
       "  UNDERINFL   WEATHER ROADCOND                LIGHTCOND PEDROWNOTGRNT  \\\n",
       "0         N  Overcast      Wet                 Daylight           NaN   \n",
       "1         0   Raining      Wet  Dark - Street Lights On           NaN   \n",
       "2         0  Overcast      Dry                 Daylight           NaN   \n",
       "3         N     Clear      Dry                 Daylight           NaN   \n",
       "4         0   Raining      Wet                 Daylight           NaN   \n",
       "\n",
       "  SPEEDING ST_COLCODE HITPARKEDCAR  \n",
       "0      NaN         10            N  \n",
       "1      NaN         11            N  \n",
       "2      NaN         32            N  \n",
       "3      NaN         23            N  \n",
       "4      NaN         10            N  "
      ]
     },
     "execution_count": 90,
     "metadata": {},
     "output_type": "execute_result"
    }
   ],
   "source": [
    "features = ['SEVERITYCODE','COLLISIONTYPE','PERSONCOUNT', 'PEDCOUNT', 'PEDCYLCOUNT', 'VEHCOUNT', 'JUNCTIONTYPE','SDOT_COLCODE', \n",
    "            'INATTENTIONIND', 'UNDERINFL', 'WEATHER', 'ROADCOND', 'LIGHTCOND', 'PEDROWNOTGRNT',\n",
    "            'SPEEDING', 'ST_COLCODE', 'HITPARKEDCAR']\n",
    "df = df[features]\n",
    "df.head()"
   ]
  },
  {
   "cell_type": "markdown",
   "metadata": {},
   "source": [
    "### Data Cleaning"
   ]
  },
  {
   "cell_type": "markdown",
   "metadata": {},
   "source": [
    "For variables that cocntain 'Y' or 'N', we will replace 'Y' by integer 1, and replace 'N' by 0. For vairables INATTENTIONIND, PEDROWNOTGRNT,SPEEDING, we need to replace NaN by 0. "
   ]
  },
  {
   "cell_type": "code",
   "execution_count": 91,
   "metadata": {},
   "outputs": [],
   "source": [
    "df['INATTENTIONIND'].replace(np.nan, 0, inplace = True)\n",
    "df['INATTENTIONIND'].replace('Y', 1, inplace = True)\n",
    "df['UNDERINFL'].replace('N', 0, inplace = True)\n",
    "df['UNDERINFL'].replace(np.nan, 0, inplace = True)\n",
    "df['UNDERINFL'].replace('Y', 1, inplace = True)\n",
    "df[\"UNDERINFL\"] = df[\"UNDERINFL\"].astype(str).astype(int)\n",
    "df['PEDROWNOTGRNT'].replace(np.nan, 0, inplace = True)\n",
    "df['PEDROWNOTGRNT'].replace('Y', 1, inplace = True)\n",
    "df['SPEEDING'].replace(np.nan, 0, inplace = True)\n",
    "df['SPEEDING'].replace('Y', 1, inplace = True)\n",
    "df['HITPARKEDCAR'].replace('Y', 1, inplace = True)\n",
    "df['HITPARKEDCAR'].replace('N', 0, inplace = True)"
   ]
  },
  {
   "cell_type": "code",
   "execution_count": 92,
   "metadata": {},
   "outputs": [
    {
     "data": {
      "text/plain": [
       "SEVERITYCODE         0\n",
       "COLLISIONTYPE     4904\n",
       "PERSONCOUNT          0\n",
       "PEDCOUNT             0\n",
       "PEDCYLCOUNT          0\n",
       "VEHCOUNT             0\n",
       "JUNCTIONTYPE      6329\n",
       "SDOT_COLCODE         0\n",
       "INATTENTIONIND       0\n",
       "UNDERINFL            0\n",
       "WEATHER           5081\n",
       "ROADCOND          5012\n",
       "LIGHTCOND         5170\n",
       "PEDROWNOTGRNT        0\n",
       "SPEEDING             0\n",
       "ST_COLCODE          18\n",
       "HITPARKEDCAR         0\n",
       "dtype: int64"
      ]
     },
     "execution_count": 92,
     "metadata": {},
     "output_type": "execute_result"
    }
   ],
   "source": [
    "df.isnull().sum()"
   ]
  },
  {
   "cell_type": "code",
   "execution_count": 93,
   "metadata": {},
   "outputs": [
    {
     "data": {
      "text/html": [
       "<div>\n",
       "<style scoped>\n",
       "    .dataframe tbody tr th:only-of-type {\n",
       "        vertical-align: middle;\n",
       "    }\n",
       "\n",
       "    .dataframe tbody tr th {\n",
       "        vertical-align: top;\n",
       "    }\n",
       "\n",
       "    .dataframe thead th {\n",
       "        text-align: right;\n",
       "    }\n",
       "</style>\n",
       "<table border=\"1\" class=\"dataframe\">\n",
       "  <thead>\n",
       "    <tr style=\"text-align: right;\">\n",
       "      <th></th>\n",
       "      <th>SEVERITYCODE</th>\n",
       "      <th>COLLISIONTYPE</th>\n",
       "      <th>PERSONCOUNT</th>\n",
       "      <th>PEDCOUNT</th>\n",
       "      <th>PEDCYLCOUNT</th>\n",
       "      <th>VEHCOUNT</th>\n",
       "      <th>JUNCTIONTYPE</th>\n",
       "      <th>SDOT_COLCODE</th>\n",
       "      <th>INATTENTIONIND</th>\n",
       "      <th>UNDERINFL</th>\n",
       "      <th>WEATHER</th>\n",
       "      <th>ROADCOND</th>\n",
       "      <th>LIGHTCOND</th>\n",
       "      <th>PEDROWNOTGRNT</th>\n",
       "      <th>SPEEDING</th>\n",
       "      <th>ST_COLCODE</th>\n",
       "      <th>HITPARKEDCAR</th>\n",
       "    </tr>\n",
       "  </thead>\n",
       "  <tbody>\n",
       "    <tr>\n",
       "      <th>0</th>\n",
       "      <td>2</td>\n",
       "      <td>Angles</td>\n",
       "      <td>2</td>\n",
       "      <td>0</td>\n",
       "      <td>0</td>\n",
       "      <td>2</td>\n",
       "      <td>At Intersection (intersection related)</td>\n",
       "      <td>11</td>\n",
       "      <td>0</td>\n",
       "      <td>0</td>\n",
       "      <td>Overcast</td>\n",
       "      <td>Wet</td>\n",
       "      <td>Daylight</td>\n",
       "      <td>0</td>\n",
       "      <td>0</td>\n",
       "      <td>10</td>\n",
       "      <td>0</td>\n",
       "    </tr>\n",
       "    <tr>\n",
       "      <th>1</th>\n",
       "      <td>1</td>\n",
       "      <td>Sideswipe</td>\n",
       "      <td>2</td>\n",
       "      <td>0</td>\n",
       "      <td>0</td>\n",
       "      <td>2</td>\n",
       "      <td>Mid-Block (not related to intersection)</td>\n",
       "      <td>16</td>\n",
       "      <td>0</td>\n",
       "      <td>0</td>\n",
       "      <td>Raining</td>\n",
       "      <td>Wet</td>\n",
       "      <td>Dark - Street Lights On</td>\n",
       "      <td>0</td>\n",
       "      <td>0</td>\n",
       "      <td>11</td>\n",
       "      <td>0</td>\n",
       "    </tr>\n",
       "    <tr>\n",
       "      <th>2</th>\n",
       "      <td>1</td>\n",
       "      <td>Parked Car</td>\n",
       "      <td>4</td>\n",
       "      <td>0</td>\n",
       "      <td>0</td>\n",
       "      <td>3</td>\n",
       "      <td>Mid-Block (not related to intersection)</td>\n",
       "      <td>14</td>\n",
       "      <td>0</td>\n",
       "      <td>0</td>\n",
       "      <td>Overcast</td>\n",
       "      <td>Dry</td>\n",
       "      <td>Daylight</td>\n",
       "      <td>0</td>\n",
       "      <td>0</td>\n",
       "      <td>32</td>\n",
       "      <td>0</td>\n",
       "    </tr>\n",
       "    <tr>\n",
       "      <th>3</th>\n",
       "      <td>1</td>\n",
       "      <td>Other</td>\n",
       "      <td>3</td>\n",
       "      <td>0</td>\n",
       "      <td>0</td>\n",
       "      <td>3</td>\n",
       "      <td>Mid-Block (not related to intersection)</td>\n",
       "      <td>11</td>\n",
       "      <td>0</td>\n",
       "      <td>0</td>\n",
       "      <td>Clear</td>\n",
       "      <td>Dry</td>\n",
       "      <td>Daylight</td>\n",
       "      <td>0</td>\n",
       "      <td>0</td>\n",
       "      <td>23</td>\n",
       "      <td>0</td>\n",
       "    </tr>\n",
       "    <tr>\n",
       "      <th>4</th>\n",
       "      <td>2</td>\n",
       "      <td>Angles</td>\n",
       "      <td>2</td>\n",
       "      <td>0</td>\n",
       "      <td>0</td>\n",
       "      <td>2</td>\n",
       "      <td>At Intersection (intersection related)</td>\n",
       "      <td>11</td>\n",
       "      <td>0</td>\n",
       "      <td>0</td>\n",
       "      <td>Raining</td>\n",
       "      <td>Wet</td>\n",
       "      <td>Daylight</td>\n",
       "      <td>0</td>\n",
       "      <td>0</td>\n",
       "      <td>10</td>\n",
       "      <td>0</td>\n",
       "    </tr>\n",
       "  </tbody>\n",
       "</table>\n",
       "</div>"
      ],
      "text/plain": [
       "   SEVERITYCODE COLLISIONTYPE  PERSONCOUNT  PEDCOUNT  PEDCYLCOUNT  VEHCOUNT  \\\n",
       "0             2        Angles            2         0            0         2   \n",
       "1             1     Sideswipe            2         0            0         2   \n",
       "2             1    Parked Car            4         0            0         3   \n",
       "3             1         Other            3         0            0         3   \n",
       "4             2        Angles            2         0            0         2   \n",
       "\n",
       "                              JUNCTIONTYPE  SDOT_COLCODE  INATTENTIONIND  \\\n",
       "0   At Intersection (intersection related)            11               0   \n",
       "1  Mid-Block (not related to intersection)            16               0   \n",
       "2  Mid-Block (not related to intersection)            14               0   \n",
       "3  Mid-Block (not related to intersection)            11               0   \n",
       "4   At Intersection (intersection related)            11               0   \n",
       "\n",
       "   UNDERINFL   WEATHER ROADCOND                LIGHTCOND  PEDROWNOTGRNT  \\\n",
       "0          0  Overcast      Wet                 Daylight              0   \n",
       "1          0   Raining      Wet  Dark - Street Lights On              0   \n",
       "2          0  Overcast      Dry                 Daylight              0   \n",
       "3          0     Clear      Dry                 Daylight              0   \n",
       "4          0   Raining      Wet                 Daylight              0   \n",
       "\n",
       "   SPEEDING ST_COLCODE  HITPARKEDCAR  \n",
       "0         0         10             0  \n",
       "1         0         11             0  \n",
       "2         0         32             0  \n",
       "3         0         23             0  \n",
       "4         0         10             0  "
      ]
     },
     "execution_count": 93,
     "metadata": {},
     "output_type": "execute_result"
    }
   ],
   "source": [
    "df.head()"
   ]
  },
  {
   "cell_type": "markdown",
   "metadata": {},
   "source": [
    "Since we have sufficient data size and discrete catecorical data can't be replaced by mean or median, we will drop those rows with NaN"
   ]
  },
  {
   "cell_type": "code",
   "execution_count": 94,
   "metadata": {},
   "outputs": [
    {
     "data": {
      "text/plain": [
       "0"
      ]
     },
     "execution_count": 94,
     "metadata": {},
     "output_type": "execute_result"
    }
   ],
   "source": [
    "df.dropna(axis = 0, inplace = True)\n",
    "df.isnull().any().sum()"
   ]
  },
  {
   "cell_type": "markdown",
   "metadata": {},
   "source": [
    "## Exploratory Analysis and Data Visualization"
   ]
  },
  {
   "cell_type": "markdown",
   "metadata": {},
   "source": [
    "### Weather "
   ]
  },
  {
   "cell_type": "code",
   "execution_count": 95,
   "metadata": {},
   "outputs": [
    {
     "data": {
      "image/png": "[encoded data removed]",
      "text/plain": [
       "<Figure size 432x288 with 1 Axes>"
      ]
     },
     "metadata": {
      "needs_background": "light"
     },
     "output_type": "display_data"
    }
   ],
   "source": [
    "import numpy as np\n",
    "import matplotlib.pyplot as plt\n",
    "from matplotlib import rc\n",
    "import pandas as pd\n",
    "grp = df.groupby('SEVERITYCODE')\n",
    "r = [0,1,2,3,4,5,6,7,8,9,10]\n",
    "raw_data = {'greenBars': grp['WEATHER'].value_counts().values.tolist()[0:11], 'orangeBars': grp['WEATHER'].value_counts().values.tolist()[11:]}\n",
    "df_plot = pd.DataFrame(raw_data)\n",
    "totals = [i+j for i,j in zip(df_plot['greenBars'], df_plot['orangeBars'])]\n",
    "greenBars = [i / j * 100 for i,j in zip(df_plot['greenBars'], totals)]\n",
    "orangeBars = [i / j * 100 for i,j in zip(df_plot['orangeBars'], totals)]\n",
    "barWidth = 0.85\n",
    "names = df['WEATHER'].value_counts().index.tolist()\n",
    "plt.bar(r, greenBars, color='#b5ffb9', edgecolor='white', width=barWidth, label = 'SEVERITY Level 1')\n",
    "plt.bar(r, orangeBars, bottom=greenBars, color='#f9bc86', edgecolor='white', width=barWidth, label = 'SEVERITY Level 2')\n",
    "plt.xticks(r, names, rotation = 45, ha=\"right\")\n",
    "plt.xlabel('Weather Type', horizontalalignment='right', position=(1,25))\n",
    "plt.ylabel('Percentage')\n",
    "plt.title('Percentage of type 1 and 2 for each Weather type')\n",
    "plt.legend()\n",
    "plt.show()"
   ]
  },
  {
   "cell_type": "markdown",
   "metadata": {},
   "source": [
    "### Collision Type"
   ]
  },
  {
   "cell_type": "code",
   "execution_count": 96,
   "metadata": {},
   "outputs": [
    {
     "data": {
      "image/png": "[encoded data removed]",
      "text/plain": [
       "<Figure size 432x288 with 1 Axes>"
      ]
     },
     "metadata": {
      "needs_background": "light"
     },
     "output_type": "display_data"
    }
   ],
   "source": [
    "r = list(range(int(len(grp['COLLISIONTYPE'].value_counts().values)/2)))\n",
    "raw_data = {'greenBars': grp['COLLISIONTYPE'].value_counts().values.tolist()[0:int(len(grp['COLLISIONTYPE'].value_counts().values)/2)], 'orangeBars': grp['COLLISIONTYPE'].value_counts().values.tolist()[int(len(grp['COLLISIONTYPE'].value_counts().values)/2):]}\n",
    "df_plot = pd.DataFrame(raw_data)\n",
    "totals = [i+j for i,j in zip(df_plot['greenBars'], df_plot['orangeBars'])]\n",
    "greenBars = [i / j * 100 for i,j in zip(df_plot['greenBars'], totals)]\n",
    "orangeBars = [i / j * 100 for i,j in zip(df_plot['orangeBars'], totals)]\n",
    "barWidth = 0.85\n",
    "names = df['COLLISIONTYPE'].value_counts().index.tolist()\n",
    "plt.bar(r, greenBars, color='#b5ffb9', edgecolor='white', width=barWidth, label = 'SEVERITY Level 1')\n",
    "plt.bar(r, orangeBars, bottom=greenBars, color='#f9bc86', edgecolor='white', width=barWidth, label = 'SEVERITY Level 2')\n",
    "plt.xticks(r, names, rotation = 45, ha=\"right\")\n",
    "plt.xlabel('COLLISION TYPE', horizontalalignment='right', position=(1,25))\n",
    "plt.ylabel('Percentage')\n",
    "plt.title('Percentage of type 1 and 2 for each COLLISION TYPE')\n",
    "plt.legend()\n",
    "plt.show()"
   ]
  },
  {
   "cell_type": "markdown",
   "metadata": {},
   "source": [
    "### Road Condition"
   ]
  },
  {
   "cell_type": "code",
   "execution_count": 97,
   "metadata": {},
   "outputs": [
    {
     "data": {
      "image/png": "[encoded data removed]",
      "text/plain": [
       "<Figure size 432x288 with 1 Axes>"
      ]
     },
     "metadata": {
      "needs_background": "light"
     },
     "output_type": "display_data"
    }
   ],
   "source": [
    "r = list(range(int(len(grp['ROADCOND'].value_counts().values)/2)))\n",
    "raw_data = {'greenBars': grp['ROADCOND'].value_counts().values.tolist()[0:int(len(grp['ROADCOND'].value_counts().values)/2)], 'orangeBars': grp['ROADCOND'].value_counts().values.tolist()[int(len(grp['ROADCOND'].value_counts().values)/2):]}\n",
    "df_plot = pd.DataFrame(raw_data)\n",
    "totals = [i+j for i,j in zip(df_plot['greenBars'], df_plot['orangeBars'])]\n",
    "greenBars = [i / j * 100 for i,j in zip(df_plot['greenBars'], totals)]\n",
    "orangeBars = [i / j * 100 for i,j in zip(df_plot['orangeBars'], totals)]\n",
    "barWidth = 0.85\n",
    "names = df['ROADCOND'].value_counts().index.tolist()\n",
    "plt.bar(r, greenBars, color='#b5ffb9', edgecolor='white', width=barWidth, label = 'SEVERITY Level 1')\n",
    "plt.bar(r, orangeBars, bottom=greenBars, color='#f9bc86', edgecolor='white', width=barWidth, label = 'SEVERITY Level 2')\n",
    "plt.xticks(r, names, rotation = 45, ha=\"right\")\n",
    "plt.xlabel('ROAD CONDITION', horizontalalignment='right', position=(1,25))\n",
    "plt.ylabel('Percentage')\n",
    "plt.title('Percentage of type 1 and 2 for each ROAD CONDITION')\n",
    "plt.legend()\n",
    "plt.show()"
   ]
  },
  {
   "cell_type": "markdown",
   "metadata": {},
   "source": [
    "### Light Condition"
   ]
  },
  {
   "cell_type": "code",
   "execution_count": 98,
   "metadata": {},
   "outputs": [
    {
     "data": {
      "image/png": "[encoded data removed]",
      "text/plain": [
       "<Figure size 432x288 with 1 Axes>"
      ]
     },
     "metadata": {
      "needs_background": "light"
     },
     "output_type": "display_data"
    }
   ],
   "source": [
    "r = list(range(int(len(grp['LIGHTCOND'].value_counts().values)/2)))\n",
    "raw_data = {'greenBars': grp['LIGHTCOND'].value_counts().values.tolist()[0:int(len(grp['LIGHTCOND'].value_counts().values)/2)], 'orangeBars': grp['LIGHTCOND'].value_counts().values.tolist()[int(len(grp['LIGHTCOND'].value_counts().values)/2):]}\n",
    "df_plot = pd.DataFrame(raw_data)\n",
    "totals = [i+j for i,j in zip(df_plot['greenBars'], df_plot['orangeBars'])]\n",
    "greenBars = [i / j * 100 for i,j in zip(df_plot['greenBars'], totals)]\n",
    "orangeBars = [i / j * 100 for i,j in zip(df_plot['orangeBars'], totals)]\n",
    "barWidth = 0.85\n",
    "names = df['LIGHTCOND'].value_counts().index.tolist()\n",
    "plt.bar(r, greenBars, color='#b5ffb9', edgecolor='white', width=barWidth, label = 'SEVERITY Level 1')\n",
    "plt.bar(r, orangeBars, bottom=greenBars, color='#f9bc86', edgecolor='white', width=barWidth, label = 'SEVERITY Level 2')\n",
    "plt.xticks(r, names, rotation = 45, ha=\"right\")\n",
    "plt.xlabel('LIGHT CONDITION', horizontalalignment='right', position=(1,25))\n",
    "plt.ylabel('Percentage')\n",
    "plt.title('Percentage of type 1 and 2 for each LIGHT CONDITION')\n",
    "plt.legend()\n",
    "plt.show()"
   ]
  },
  {
   "cell_type": "markdown",
   "metadata": {},
   "source": [
    "### Under Influence"
   ]
  },
  {
   "cell_type": "code",
   "execution_count": 106,
   "metadata": {},
   "outputs": [
    {
     "data": {
      "image/png": "[encoded data removed]",
      "text/plain": [
       "<Figure size 432x288 with 1 Axes>"
      ]
     },
     "metadata": {
      "needs_background": "light"
     },
     "output_type": "display_data"
    }
   ],
   "source": [
    "r = list(range(int(len(grp['UNDERINFL'].value_counts().values)/2)))\n",
    "raw_data = {'greenBars': grp['UNDERINFL'].value_counts().values.tolist()[0:int(len(grp['UNDERINFL'].value_counts().values)/2)], 'orangeBars': grp['UNDERINFL'].value_counts().values.tolist()[int(len(grp['UNDERINFL'].value_counts().values)/2):]}\n",
    "df_plot = pd.DataFrame(raw_data)\n",
    "totals = [i+j for i,j in zip(df_plot['greenBars'], df_plot['orangeBars'])]\n",
    "greenBars = [i / j * 100 for i,j in zip(df_plot['greenBars'], totals)]\n",
    "orangeBars = [i / j * 100 for i,j in zip(df_plot['orangeBars'], totals)]\n",
    "barWidth = 0.85\n",
    "names = df['UNDERINFL'].value_counts().index.tolist()\n",
    "plt.bar(r, greenBars, color='#b5ffb9', edgecolor='white', width=barWidth, label = 'SEVERITY Level 1')\n",
    "plt.bar(r, orangeBars, bottom=greenBars, color='#f9bc86', edgecolor='white', width=barWidth, label = 'SEVERITY Level 2')\n",
    "plt.xticks(r, names, ha=\"right\")\n",
    "plt.xlabel('UNDERINFL', horizontalalignment='right', position=(1,25))\n",
    "plt.ylabel('Percentage')\n",
    "plt.title('Percentage of type 1 and 2 for UNDERINFL OR NOT')\n",
    "plt.legend()\n",
    "plt.show()"
   ]
  },
  {
   "cell_type": "markdown",
   "metadata": {},
   "source": [
    "### Speeding"
   ]
  },
  {
   "cell_type": "code",
   "execution_count": 100,
   "metadata": {},
   "outputs": [
    {
     "data": {
      "image/png": "[encoded data removed]",
      "text/plain": [
       "<Figure size 432x288 with 1 Axes>"
      ]
     },
     "metadata": {
      "needs_background": "light"
     },
     "output_type": "display_data"
    }
   ],
   "source": [
    "r = list(range(int(len(grp['SPEEDING'].value_counts().values)/2)))\n",
    "raw_data = {'greenBars': grp['SPEEDING'].value_counts().values.tolist()[0:int(len(grp['SPEEDING'].value_counts().values)/2)], 'orangeBars': grp['SPEEDING'].value_counts().values.tolist()[int(len(grp['SPEEDING'].value_counts().values)/2):]}\n",
    "df_plot = pd.DataFrame(raw_data)\n",
    "totals = [i+j for i,j in zip(df_plot['greenBars'], df_plot['orangeBars'])]\n",
    "greenBars = [i / j * 100 for i,j in zip(df_plot['greenBars'], totals)]\n",
    "orangeBars = [i / j * 100 for i,j in zip(df_plot['orangeBars'], totals)]\n",
    "barWidth = 0.85\n",
    "names = df['SPEEDING'].value_counts().index.tolist()\n",
    "plt.bar(r, greenBars, color='#b5ffb9', edgecolor='white', width=barWidth, label = 'SEVERITY Level 1')\n",
    "plt.bar(r, orangeBars, bottom=greenBars, color='#f9bc86', edgecolor='white', width=barWidth, label = 'SEVERITY Level 2')\n",
    "plt.xticks(r, names, ha=\"right\")\n",
    "plt.xlabel('SPEEDING', horizontalalignment='right', position=(1,25))\n",
    "plt.ylabel('Percentage')\n",
    "plt.title('Percentage of type 1 and 2 for SPEEDING OR NOT')\n",
    "plt.legend()\n",
    "plt.show()"
   ]
  },
  {
   "cell_type": "markdown",
   "metadata": {},
   "source": [
    "### Inattention"
   ]
  },
  {
   "cell_type": "code",
   "execution_count": 105,
   "metadata": {},
   "outputs": [
    {
     "data": {
      "image/png": "[encoded data removed]",
      "text/plain": [
       "<Figure size 432x288 with 1 Axes>"
      ]
     },
     "metadata": {
      "needs_background": "light"
     },
     "output_type": "display_data"
    }
   ],
   "source": [
    "r = list(range(int(len(grp['INATTENTIONIND'].value_counts().values)/2)))\n",
    "raw_data = {'greenBars': grp['INATTENTIONIND'].value_counts().values.tolist()[0:int(len(grp['INATTENTIONIND'].value_counts().values)/2)], 'orangeBars': grp['INATTENTIONIND'].value_counts().values.tolist()[int(len(grp['INATTENTIONIND'].value_counts().values)/2):]}\n",
    "df_plot = pd.DataFrame(raw_data)\n",
    "totals = [i+j for i,j in zip(df_plot['greenBars'], df_plot['orangeBars'])]\n",
    "greenBars = [i / j * 100 for i,j in zip(df_plot['greenBars'], totals)]\n",
    "orangeBars = [i / j * 100 for i,j in zip(df_plot['orangeBars'], totals)]\n",
    "barWidth = 0.85\n",
    "names = df['INATTENTIONIND'].value_counts().index.tolist()\n",
    "plt.bar(r, greenBars, color='#b5ffb9', edgecolor='white', width=barWidth, label = 'SEVERITY Level 1')\n",
    "plt.bar(r, orangeBars, bottom=greenBars, color='#f9bc86', edgecolor='white', width=barWidth, label = 'SEVERITY Level 2')\n",
    "plt.xticks(r, names, ha=\"right\")\n",
    "plt.xlabel('INATTENTIONIND', horizontalalignment='right', position=(1,25))\n",
    "plt.ylabel('Percentage')\n",
    "plt.title('Percentage of type 1 and 2 for INATTENTIONIND')\n",
    "plt.legend()\n",
    "plt.show()"
   ]
  },
  {
   "cell_type": "markdown",
   "metadata": {},
   "source": [
    "## Data Preperation for Modeling"
   ]
  },
  {
   "cell_type": "markdown",
   "metadata": {},
   "source": [
    "### Transform Categorical Variables"
   ]
  },
  {
   "cell_type": "code",
   "execution_count": 43,
   "metadata": {},
   "outputs": [],
   "source": [
    "df_cat = df[['COLLISIONTYPE', 'JUNCTIONTYPE', 'WEATHER', 'ROADCOND', 'LIGHTCOND']]\n",
    "dummies = pd.get_dummies(df_cat)\n",
    "df = pd.concat([df, dummies], axis=1)\n",
    "df.drop(['COLLISIONTYPE', 'JUNCTIONTYPE', 'WEATHER', 'ROADCOND', 'LIGHTCOND'], axis = 1, inplace = True)"
   ]
  },
  {
   "cell_type": "code",
   "execution_count": 45,
   "metadata": {},
   "outputs": [
    {
     "data": {
      "text/plain": [
       "array(['SEVERITYCODE', 'PERSONCOUNT', 'PEDCOUNT', 'PEDCYLCOUNT',\n",
       "       'VEHCOUNT', 'SDOT_COLCODE', 'INATTENTIONIND', 'UNDERINFL',\n",
       "       'PEDROWNOTGRNT', 'SPEEDING', 'ST_COLCODE', 'HITPARKEDCAR',\n",
       "       'COLLISIONTYPE_Angles', 'COLLISIONTYPE_Cycles',\n",
       "       'COLLISIONTYPE_Head On', 'COLLISIONTYPE_Left Turn',\n",
       "       'COLLISIONTYPE_Other', 'COLLISIONTYPE_Parked Car',\n",
       "       'COLLISIONTYPE_Pedestrian', 'COLLISIONTYPE_Rear Ended',\n",
       "       'COLLISIONTYPE_Right Turn', 'COLLISIONTYPE_Sideswipe',\n",
       "       'JUNCTIONTYPE_At Intersection (but not related to intersection)',\n",
       "       'JUNCTIONTYPE_At Intersection (intersection related)',\n",
       "       'JUNCTIONTYPE_Driveway Junction',\n",
       "       'JUNCTIONTYPE_Mid-Block (but intersection related)',\n",
       "       'JUNCTIONTYPE_Mid-Block (not related to intersection)',\n",
       "       'JUNCTIONTYPE_Ramp Junction', 'JUNCTIONTYPE_Unknown',\n",
       "       'WEATHER_Blowing Sand/Dirt', 'WEATHER_Clear',\n",
       "       'WEATHER_Fog/Smog/Smoke', 'WEATHER_Other', 'WEATHER_Overcast',\n",
       "       'WEATHER_Partly Cloudy', 'WEATHER_Raining',\n",
       "       'WEATHER_Severe Crosswind', 'WEATHER_Sleet/Hail/Freezing Rain',\n",
       "       'WEATHER_Snowing', 'WEATHER_Unknown', 'ROADCOND_Dry',\n",
       "       'ROADCOND_Ice', 'ROADCOND_Oil', 'ROADCOND_Other',\n",
       "       'ROADCOND_Sand/Mud/Dirt', 'ROADCOND_Snow/Slush',\n",
       "       'ROADCOND_Standing Water', 'ROADCOND_Unknown', 'ROADCOND_Wet',\n",
       "       'LIGHTCOND_Dark - No Street Lights',\n",
       "       'LIGHTCOND_Dark - Street Lights Off',\n",
       "       'LIGHTCOND_Dark - Street Lights On',\n",
       "       'LIGHTCOND_Dark - Unknown Lighting', 'LIGHTCOND_Dawn',\n",
       "       'LIGHTCOND_Daylight', 'LIGHTCOND_Dusk', 'LIGHTCOND_Other',\n",
       "       'LIGHTCOND_Unknown'], dtype=object)"
      ]
     },
     "execution_count": 45,
     "metadata": {},
     "output_type": "execute_result"
    }
   ],
   "source": [
    "df.columns.values"
   ]
  },
  {
   "cell_type": "markdown",
   "metadata": {},
   "source": [
    "### Balance Dataset"
   ]
  },
  {
   "cell_type": "code",
   "execution_count": 53,
   "metadata": {},
   "outputs": [
    {
     "data": {
      "image/png": "[encoded data removed]",
      "text/plain": [
       "<Figure size 432x288 with 1 Axes>"
      ]
     },
     "metadata": {
      "needs_background": "light"
     },
     "output_type": "display_data"
    }
   ],
   "source": [
    "df['SEVERITYCODE'].value_counts().plot(kind = 'bar')\n",
    "plt.xlabel('severity code')\n",
    "plt.ylabel('count')\n",
    "plt.title('Number of observations for each type')\n",
    "plt.show()"
   ]
  },
  {
   "cell_type": "markdown",
   "metadata": {},
   "source": [
    "Since we have unblanced data sample, also the size of this dataset is sufficient enough for us to build a classification model, we will use undersampling to balance the data. We will randomly select samples from group with SEVERITYCODE = 1 and merge them with all samples from group with SEVERITYCODE = 2. "
   ]
  },
  {
   "cell_type": "code",
   "execution_count": 55,
   "metadata": {},
   "outputs": [
    {
     "data": {
      "text/plain": [
       "2    56656\n",
       "1    56656\n",
       "Name: SEVERITYCODE, dtype: int64"
      ]
     },
     "execution_count": 55,
     "metadata": {},
     "output_type": "execute_result"
    }
   ],
   "source": [
    "shuffled_df = df.sample(frac=1,random_state=4)\n",
    "code_2 = shuffled_df.loc[shuffled_df['SEVERITYCODE'] == 2]\n",
    "code_1 = shuffled_df.loc[shuffled_df['SEVERITYCODE'] == 1].sample(n=56656,random_state=42)\n",
    "balanced_df = pd.concat([code_1, code_2])\n",
    "balanced_df['SEVERITYCODE'].value_counts()"
   ]
  },
  {
   "cell_type": "code",
   "execution_count": 60,
   "metadata": {
    "scrolled": true
   },
   "outputs": [
    {
     "data": {
      "image/png": "[encoded data removed]",
      "text/plain": [
       "<Figure size 432x288 with 1 Axes>"
      ]
     },
     "metadata": {
      "needs_background": "light"
     },
     "output_type": "display_data"
    }
   ],
   "source": [
    "balanced_df['SEVERITYCODE'].value_counts().plot(kind = 'bar')\n",
    "plt.xlabel('severity code')\n",
    "plt.ylabel('count')\n",
    "plt.title('Number of observations for each type')\n",
    "plt.show()"
   ]
  },
  {
   "cell_type": "markdown",
   "metadata": {},
   "source": [
    "### Normalize Data"
   ]
  },
  {
   "cell_type": "code",
   "execution_count": 62,
   "metadata": {},
   "outputs": [
    {
     "data": {
      "text/plain": [
       "array([[-0.38423393, -0.23981582, -0.21531145, ..., -0.1820257 ,\n",
       "        -0.03187363, -0.21635729],\n",
       "       [-0.38423393, -0.23981582, -0.21531145, ..., -0.1820257 ,\n",
       "        -0.03187363, -0.21635729],\n",
       "       [ 1.71049851, -0.23981582, -0.21531145, ..., -0.1820257 ,\n",
       "        -0.03187363, -0.21635729],\n",
       "       ...,\n",
       "       [-0.38423393,  3.7788193 , -0.21531145, ..., -0.1820257 ,\n",
       "        -0.03187363, -0.21635729],\n",
       "       [ 0.31401021, -0.23981582, -0.21531145, ..., -0.1820257 ,\n",
       "        -0.03187363, -0.21635729],\n",
       "       [ 2.40874266, -0.23981582,  4.567549  , ..., -0.1820257 ,\n",
       "        -0.03187363, -0.21635729]])"
      ]
     },
     "execution_count": 62,
     "metadata": {},
     "output_type": "execute_result"
    }
   ],
   "source": [
    "from sklearn import preprocessing\n",
    "X = balanced_df.loc[:, 'PERSONCOUNT':].values.astype(float)\n",
    "X = preprocessing.StandardScaler().fit(X).transform(X.astype(float))\n",
    "X"
   ]
  },
  {
   "cell_type": "code",
   "execution_count": 63,
   "metadata": {},
   "outputs": [
    {
     "data": {
      "text/plain": [
       "array([1, 1, 1, ..., 2, 2, 2])"
      ]
     },
     "execution_count": 63,
     "metadata": {},
     "output_type": "execute_result"
    }
   ],
   "source": [
    "y = balanced_df['SEVERITYCODE'].values\n",
    "y"
   ]
  },
  {
   "cell_type": "markdown",
   "metadata": {},
   "source": [
    "## Classification"
   ]
  },
  {
   "cell_type": "markdown",
   "metadata": {},
   "source": [
    "### K Nearest Neighbor(KNN)"
   ]
  },
  {
   "cell_type": "code",
   "execution_count": 66,
   "metadata": {},
   "outputs": [],
   "source": [
    "from sklearn.model_selection import train_test_split\n",
    "from sklearn.neighbors import KNeighborsClassifier\n",
    "X_train, X_test, y_train, y_test = train_test_split( X, y, test_size=0.3, random_state=0)"
   ]
  },
  {
   "cell_type": "code",
   "execution_count": 67,
   "metadata": {},
   "outputs": [],
   "source": [
    "k = 7\n",
    "neigh = KNeighborsClassifier(n_neighbors = k).fit(X_train,y_train)\n",
    "yhat = neigh.predict(X_test)"
   ]
  },
  {
   "cell_type": "code",
   "execution_count": 69,
   "metadata": {},
   "outputs": [
    {
     "name": "stdout",
     "output_type": "stream",
     "text": [
      "Jaccard similarity score:  0.5076495132127955\n",
      "F1 score:  0.6870505604837266\n"
     ]
    }
   ],
   "source": [
    "from sklearn.metrics import jaccard_score\n",
    "from sklearn.metrics import f1_score\n",
    "jac_knn = jaccard_score(y_test, neigh.predict(X_test))\n",
    "f1_knn = f1_score(y_test, neigh.predict(X_test), average='weighted')\n",
    "print(\"Jaccard similarity score: \", jac_knn)\n",
    "print(\"F1 score: \", f1_knn)"
   ]
  },
  {
   "cell_type": "markdown",
   "metadata": {},
   "source": [
    "### Dicision Tree"
   ]
  },
  {
   "cell_type": "code",
   "execution_count": 71,
   "metadata": {},
   "outputs": [],
   "source": [
    "from sklearn.tree import DecisionTreeClassifier"
   ]
  },
  {
   "cell_type": "code",
   "execution_count": 72,
   "metadata": {},
   "outputs": [
    {
     "data": {
      "text/plain": [
       "DecisionTreeClassifier(criterion='entropy')"
      ]
     },
     "execution_count": 72,
     "metadata": {},
     "output_type": "execute_result"
    }
   ],
   "source": [
    "dt = DecisionTreeClassifier(criterion=\"entropy\")\n",
    "dt.fit(X_train, y_train)"
   ]
  },
  {
   "cell_type": "code",
   "execution_count": 73,
   "metadata": {},
   "outputs": [
    {
     "name": "stdout",
     "output_type": "stream",
     "text": [
      "Jaccard similarity score:  0.5025276165512076\n",
      "F1 score:  0.686443703446778\n"
     ]
    }
   ],
   "source": [
    "jac_dt = jaccard_score(y_test, dt.predict(X_test))\n",
    "f1_dt = f1_score(y_test, dt.predict(X_test), average='weighted')\n",
    "print(\"Jaccard similarity score: \", jac_dt)\n",
    "print(\"F1 score: \", f1_dt)"
   ]
  },
  {
   "cell_type": "markdown",
   "metadata": {},
   "source": [
    "### Support Vector Machine (SVM)"
   ]
  },
  {
   "cell_type": "code",
   "execution_count": 74,
   "metadata": {},
   "outputs": [
    {
     "data": {
      "text/plain": [
       "SVC()"
      ]
     },
     "execution_count": 74,
     "metadata": {},
     "output_type": "execute_result"
    }
   ],
   "source": [
    "from sklearn import svm\n",
    "clf = svm.SVC(kernel='rbf')\n",
    "clf.fit(X_train, y_train)"
   ]
  },
  {
   "cell_type": "code",
   "execution_count": 76,
   "metadata": {},
   "outputs": [
    {
     "name": "stdout",
     "output_type": "stream",
     "text": [
      "Jaccard similarity score:  0.5133539771627637\n",
      "F1 score:  0.7023060017059267\n"
     ]
    }
   ],
   "source": [
    "jac_svm = jaccard_score(y_test, clf.predict(X_test))\n",
    "f1_svm = f1_score(y_test, clf.predict(X_test), average='weighted')\n",
    "print(\"Jaccard similarity score: \", jac_svm)\n",
    "print(\"F1 score: \", f1_svm)"
   ]
  },
  {
   "cell_type": "markdown",
   "metadata": {},
   "source": [
    "### Logistic Regression"
   ]
  },
  {
   "cell_type": "code",
   "execution_count": 77,
   "metadata": {},
   "outputs": [],
   "source": [
    "from sklearn.linear_model import LogisticRegression\n",
    "LR = LogisticRegression(C=0.01, solver='liblinear').fit(X_train, y_train)"
   ]
  },
  {
   "cell_type": "code",
   "execution_count": 78,
   "metadata": {},
   "outputs": [
    {
     "name": "stdout",
     "output_type": "stream",
     "text": [
      "Jaccard similarity score:  0.49931129476584024\n",
      "F1 score:  0.6974652705987167\n",
      "Log Loss:  0.5455539840355568\n"
     ]
    }
   ],
   "source": [
    "from sklearn.metrics import log_loss\n",
    "jac_lr = jaccard_score(y_test, LR.predict(X_test))\n",
    "f1_lr = f1_score(y_test, LR.predict(X_test), average='weighted')\n",
    "print(\"Jaccard similarity score: \", jac_lr)\n",
    "print(\"F1 score: \", f1_lr)\n",
    "yhat_prob = LR.predict_proba(X_test)\n",
    "ll_LR = log_loss(y_test, yhat_prob)\n",
    "print(\"Log Loss: \", ll_LR)"
   ]
  },
  {
   "cell_type": "markdown",
   "metadata": {},
   "source": [
    "## 4. Results"
   ]
  },
  {
   "cell_type": "code",
   "execution_count": 79,
   "metadata": {},
   "outputs": [
    {
     "data": {
      "text/html": [
       "<div>\n",
       "<style scoped>\n",
       "    .dataframe tbody tr th:only-of-type {\n",
       "        vertical-align: middle;\n",
       "    }\n",
       "\n",
       "    .dataframe tbody tr th {\n",
       "        vertical-align: top;\n",
       "    }\n",
       "\n",
       "    .dataframe thead th {\n",
       "        text-align: right;\n",
       "    }\n",
       "</style>\n",
       "<table border=\"1\" class=\"dataframe\">\n",
       "  <thead>\n",
       "    <tr style=\"text-align: right;\">\n",
       "      <th></th>\n",
       "      <th>Algorithm</th>\n",
       "      <th>Jaccard</th>\n",
       "      <th>F1-score</th>\n",
       "      <th>LogLoss</th>\n",
       "    </tr>\n",
       "  </thead>\n",
       "  <tbody>\n",
       "    <tr>\n",
       "      <th>0</th>\n",
       "      <td>KNN</td>\n",
       "      <td>0.507650</td>\n",
       "      <td>0.687051</td>\n",
       "      <td>NA</td>\n",
       "    </tr>\n",
       "    <tr>\n",
       "      <th>1</th>\n",
       "      <td>Decision Tree</td>\n",
       "      <td>0.502528</td>\n",
       "      <td>0.686444</td>\n",
       "      <td>NA</td>\n",
       "    </tr>\n",
       "    <tr>\n",
       "      <th>2</th>\n",
       "      <td>SVM</td>\n",
       "      <td>0.513354</td>\n",
       "      <td>0.702306</td>\n",
       "      <td>NA</td>\n",
       "    </tr>\n",
       "    <tr>\n",
       "      <th>3</th>\n",
       "      <td>LogisticRegression</td>\n",
       "      <td>0.499311</td>\n",
       "      <td>0.697465</td>\n",
       "      <td>0.545554</td>\n",
       "    </tr>\n",
       "  </tbody>\n",
       "</table>\n",
       "</div>"
      ],
      "text/plain": [
       "            Algorithm   Jaccard  F1-score   LogLoss\n",
       "0                 KNN  0.507650  0.687051        NA\n",
       "1       Decision Tree  0.502528  0.686444        NA\n",
       "2                 SVM  0.513354  0.702306        NA\n",
       "3  LogisticRegression  0.499311  0.697465  0.545554"
      ]
     },
     "execution_count": 79,
     "metadata": {},
     "output_type": "execute_result"
    }
   ],
   "source": [
    "thisdict = {\n",
    "  \"Algorithm\": ['KNN', 'Decision Tree', 'SVM', 'LogisticRegression'],\n",
    "  \"Jaccard\": [jac_knn, jac_dt, jac_svm, jac_lr],\n",
    "  \"F1-score\": [f1_knn, f1_dt, f1_svm, f1_lr],\n",
    "  'LogLoss':['NA', 'NA', 'NA', ll_LR]\n",
    "}\n",
    "pd.DataFrame(thisdict)"
   ]
  },
  {
   "cell_type": "markdown",
   "metadata": {},
   "source": [
    "## 5. Discussion"
   ]
  },
  {
   "cell_type": "markdown",
   "metadata": {},
   "source": [
    "From the plots in the exploratory section we can clearly see that features such as light condition, weather type, and light condition do have a impact on the possibility of more severe accidents happening. Features such as speeding, and driving under influence can also increase the chance of getting into a severe accidents. "
   ]
  },
  {
   "cell_type": "markdown",
   "metadata": {},
   "source": [
    "## 6. Conclussion"
   ]
  },
  {
   "cell_type": "markdown",
   "metadata": {},
   "source": [
    "From the Evaluation matrix above we can see that Support Vector Machine algorithm has the highest F-1score as well as highest Jaccard similarity score among all algorithms. Therefore SVM will be the model that we are going to choose for further optimization of the classifier. "
   ]
  },
  {
   "cell_type": "code",
   "execution_count": null,
   "metadata": {},
   "outputs": [],
   "source": []
  }
 ],
 "metadata": {
  "kernelspec": {
   "display_name": "Python 3",
   "language": "python",
   "name": "python3"
  },
  "language_info": {
   "codemirror_mode": {
    "name": "ipython",
    "version": 3
   },
   "file_extension": ".py",
   "mimetype": "text/x-python",
   "name": "python",
   "nbconvert_exporter": "python",
   "pygments_lexer": "ipython3",
   "version": "3.8.3"
  }
 },
 "nbformat": 4,
 "nbformat_minor": 4
}
